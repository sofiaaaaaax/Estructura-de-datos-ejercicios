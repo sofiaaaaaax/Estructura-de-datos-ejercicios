{
  "nbformat": 4,
  "nbformat_minor": 0,
  "metadata": {
    "colab": {
      "provenance": [],
      "authorship_tag": "ABX9TyM+yye9PlUqlh8olrmuLKoE",
      "include_colab_link": true
    },
    "kernelspec": {
      "name": "python3",
      "display_name": "Python 3"
    },
    "language_info": {
      "name": "python"
    }
  },
  "cells": [
    {
      "cell_type": "markdown",
      "metadata": {
        "id": "view-in-github",
        "colab_type": "text"
      },
      "source": [
        "<a href=\"https://colab.research.google.com/github/sofiaaaaaax/Estructura-de-datos-ejercicios/blob/main/EstructuraDatos_Python.ipynb\" target=\"_parent\"><img src=\"https://colab.research.google.com/assets/colab-badge.svg\" alt=\"Open In Colab\"/></a>"
      ]
    },
    {
      "cell_type": "code",
      "execution_count": null,
      "metadata": {
        "id": "CuJZgGsC7kAE"
      },
      "outputs": [],
      "source": []
    },
    {
      "cell_type": "markdown",
      "source": [
        "# Estructura de Datos"
      ],
      "metadata": {
        "id": "-0StaOP5BSTo"
      }
    },
    {
      "cell_type": "markdown",
      "source": [
        "## Conjuntos"
      ],
      "metadata": {
        "id": "5uvj9OxZBh7b"
      }
    },
    {
      "cell_type": "markdown",
      "source": [
        "1. En este ejercicio se trabaja con conjuntos (set) en Python.\n",
        "El objetivo es crear un conjunto de frutas eliminando los elementos repetidos.\n",
        "El problema que se resuelve es que, al tener una lista con frutas duplicadas, queremos obtener solo una copia de cada fruta.\n",
        "El enfoque utilizado es convertir la lista original en un conjunto usando la función set(), que automáticamente descarta los duplicados y guarda únicamente los valores únicos."
      ],
      "metadata": {
        "id": "TAoKBKfWCpWs"
      }
    },
    {
      "cell_type": "code",
      "source": [
        "# Crear un conjunto a partir de una lista con frutas repetidas\n",
        "# La función set() elimina automáticamente los duplicados\n",
        "frutas = set(['manzana', 'naranja', 'manzana', 'pera', 'naranja', 'plátano'])\n",
        "\n",
        "# Imprimir el conjunto resultante\n",
        "print(frutas)"
      ],
      "metadata": {
        "colab": {
          "base_uri": "https://localhost:8080/"
        },
        "id": "0AmAPmVGBj-i",
        "outputId": "f9ab7900-d563-4e4c-bd42-9c2d603f5cd2"
      },
      "execution_count": null,
      "outputs": [
        {
          "output_type": "stream",
          "name": "stdout",
          "text": [
            "{'plátano', 'pera', 'naranja', 'manzana'}\n"
          ]
        }
      ]
    },
    {
      "cell_type": "markdown",
      "source": [
        "2. En este ejercicio se utiliza la estructura de datos conjunto (set) para verificar si un elemento pertenece o no al conjunto.\n",
        "El problema que se resuelve es determinar, de forma rápida y eficiente, si una fruta específica está dentro del conjunto de frutas.\n",
        "El enfoque consiste en usar el operador in, que permite comprobar la pertenencia de un elemento.\n",
        "Python realiza esta búsqueda de manera muy rápida, ya que los conjuntos están optimizados para este tipo de operaciones."
      ],
      "metadata": {
        "id": "hKY8XGDMEIVp"
      }
    },
    {
      "cell_type": "code",
      "source": [
        "# Crear un conjunto con frutas sin elementos duplicados\n",
        "frutas = set(['manzana', 'naranja', 'manzana', 'pera', 'naranja', 'plátano'])\n",
        "\n",
        "# Verificar si una fruta está dentro del conjunto\n",
        "# El operador 'in' devuelve True si el elemento está presente y False si no lo está\n",
        "print('naranja' in frutas)  # True  -> 'naranja' sí está en el conjunto\n",
        "print('uva' in frutas)      # False -> 'uva' no está en el conjunto\n"
      ],
      "metadata": {
        "colab": {
          "base_uri": "https://localhost:8080/"
        },
        "id": "xIfUmq4qEON_",
        "outputId": "e1391c0a-6af9-4fdf-a7e1-a70af6544421"
      },
      "execution_count": null,
      "outputs": [
        {
          "output_type": "stream",
          "name": "stdout",
          "text": [
            "True\n",
            "False\n"
          ]
        }
      ]
    },
    {
      "cell_type": "markdown",
      "source": [
        "'naranja' in frutas devuelve True, porque naranja sí existe en el conjunto.\n",
        "\n",
        "'uva' in frutas devuelve False, porque uva no forma parte del conjunto."
      ],
      "metadata": {
        "id": "Yn-xIuGzEY2_"
      }
    },
    {
      "cell_type": "markdown",
      "source": [
        "3. En este ejercicio se muestra cómo crear un conjunto (set) a partir de una cadena de texto.\n",
        "El objetivo es obtener las letras únicas que aparecen en la palabra “abracadabra”.\n",
        "El problema que se resuelve es eliminar las letras repetidas de la cadena.\n",
        "El enfoque consiste en aplicar la función set() directamente sobre la cadena: cada carácter se convierte en un elemento del conjunto, y los duplicados se eliminan automáticamente.\n",
        "Luego, se usa la función len() para contar cuántas letras únicas hay."
      ],
      "metadata": {
        "id": "XAxcZIeHEhrW"
      }
    },
    {
      "cell_type": "code",
      "source": [
        "# Crear un conjunto a partir de una cadena de texto\n",
        "# Cada letra se convierte en un elemento del conjunto\n",
        "# Los caracteres repetidos se eliminan automáticamente\n",
        "letrasUnicas = set('abracadabra')\n",
        "\n",
        "# Mostrar las letras únicas encontradas\n",
        "print(letrasUnicas)  # El orden puede variar, ejemplo: {'a', 'r', 'b', 'c', 'd'}\n",
        "\n",
        "# Mostrar cuántas letras únicas tiene la palabra\n",
        "print(len(letrasUnicas))  # Muestra la cantidad total de letras diferentes"
      ],
      "metadata": {
        "colab": {
          "base_uri": "https://localhost:8080/"
        },
        "id": "Q7LkDM0HEsW3",
        "outputId": "955a73bb-3ba6-4e4d-b11a-cf4a0eba2308"
      },
      "execution_count": null,
      "outputs": [
        {
          "output_type": "stream",
          "name": "stdout",
          "text": [
            "{'d', 'r', 'b', 'c', 'a'}\n",
            "5\n"
          ]
        }
      ]
    },
    {
      "cell_type": "markdown",
      "source": [
        "# Diccionarios"
      ],
      "metadata": {
        "id": "bBSk0dawE9vy"
      }
    },
    {
      "cell_type": "markdown",
      "source": [
        "1. En este ejercicio se trabaja con diccionarios en Python, una estructura que permite almacenar información mediante pares “clave: valor”.\n",
        "El objetivo es crear una lista de diccionarios, donde cada diccionario representa a un estudiante con sus datos personales y notas.\n",
        "\n",
        "El problema que se resuelve es cómo organizar información compleja (como nombre, edad, carrera y notas) de manera estructurada y fácil de acceder.\n",
        "El enfoque consiste en usar una lista ([]) que contiene varios diccionarios ({}), uno por cada estudiante."
      ],
      "metadata": {
        "id": "OlRH032FFD-e"
      }
    },
    {
      "cell_type": "code",
      "source": [
        "# Crear una lista de diccionarios, donde cada diccionario representa a un estudiante\n",
        "estudiante = [\n",
        "    {\n",
        "        'nombre': 'Ana',\n",
        "        'edad': 20,\n",
        "        'carrera': 'Ingeniería',\n",
        "        'notas': [85, 90, 78]\n",
        "    },\n",
        "    {\n",
        "        'nombre': 'Mateo',\n",
        "        'edad': 18,\n",
        "        'carrera': 'Ingeniería',\n",
        "        'notas': [4, 5, 4]\n",
        "    },\n",
        "    {\n",
        "        'nombre': 'Samuel',\n",
        "        'edad': 18,\n",
        "        'carrera': 'Ingeniería',\n",
        "        'notas': [5, 5, 4]\n",
        "    },\n",
        "    {\n",
        "        'nombre': 'Joseph',\n",
        "        'edad': 17,\n",
        "        'carrera': 'Ingeniería',\n",
        "        'notas': [5, 5, 5]\n",
        "    }\n",
        "]\n",
        "\n",
        "# Mostrar toda la lista de diccionarios\n",
        "print(estudiante)"
      ],
      "metadata": {
        "colab": {
          "base_uri": "https://localhost:8080/"
        },
        "id": "dk2FvWytImV-",
        "outputId": "308d73f1-eb3d-45c8-8d0f-7e099f5da16b"
      },
      "execution_count": null,
      "outputs": [
        {
          "output_type": "stream",
          "name": "stdout",
          "text": [
            "[{'nombre': 'Ana', 'edad': 20, 'carrera': 'Ingeniería', 'notas': [85, 90, 78]}, {'nombre': 'Mateo', 'edad': 18, 'carrera': 'Ingeniería', 'notas': [4, 5, 4]}, {'nombre': 'Samuel', 'edad': 18, 'carrera': 'Ingeniería', 'notas': [5, 5, 4]}, {'nombre': 'Joseph', 'edad': 17, 'carrera': 'Ingeniería', 'notas': [5, 5, 5]}]\n"
          ]
        }
      ]
    },
    {
      "cell_type": "markdown",
      "source": [
        "2. En este ejercicio se trabaja con una lista de diccionarios que almacena información de varios estudiantes.\n",
        "El objetivo es modificar el valor de una clave específica dentro de uno de los diccionarios.\n",
        "\n",
        "El problema que se resuelve es cómo acceder al elemento correcto (en este caso, el tercer estudiante) y actualizar un dato dentro del diccionario (la edad).\n",
        "El enfoque consiste en usar índices para acceder al estudiante dentro de la lista, y luego la clave 'edad' para cambiar su valor."
      ],
      "metadata": {
        "id": "2rCr5jnhJ97X"
      }
    },
    {
      "cell_type": "code",
      "source": [
        "# Lista de diccionarios con información de estudiantes\n",
        "estudiante = [\n",
        "    {\n",
        "        'nombre': 'Ana',\n",
        "        'edad': 20,\n",
        "        'carrera': 'Ingeniería',\n",
        "        'notas': [85, 90, 78]\n",
        "    },\n",
        "    {\n",
        "        'nombre': 'Mateo',\n",
        "        'edad': 18,\n",
        "        'carrera': 'Ingeniería',\n",
        "        'notas': [4, 5, 4]\n",
        "    },\n",
        "    {\n",
        "        'nombre': 'Samuel',\n",
        "        'edad': 18,\n",
        "        'carrera': 'Ingeniería',\n",
        "        'notas': [5, 5, 4]\n",
        "    },\n",
        "    {\n",
        "        'nombre': 'Joseph',\n",
        "        'edad': 17,\n",
        "        'carrera': 'Ingeniería',\n",
        "        'notas': [5, 5, 5]\n",
        "    }\n",
        "]\n",
        "\n",
        "# Modificar el valor de la edad del tercer estudiante (índice 2)\n",
        "estudiante[2]['edad'] = 19\n",
        "\n",
        "# Imprimir la nueva edad del tercer estudiante para verificar el cambio\n",
        "print(estudiante[2]['edad'])  # 19\n",
        "\n",
        "# Mostrar la lista completa con el valor actualizado\n",
        "print(estudiante)"
      ],
      "metadata": {
        "colab": {
          "base_uri": "https://localhost:8080/"
        },
        "id": "iosVZUgXKW7n",
        "outputId": "2a876365-a627-4ac0-c235-1d786c1d0613"
      },
      "execution_count": null,
      "outputs": [
        {
          "output_type": "stream",
          "name": "stdout",
          "text": [
            "19\n",
            "[{'nombre': 'Ana', 'edad': 20, 'carrera': 'Ingeniería', 'notas': [85, 90, 78]}, {'nombre': 'Mateo', 'edad': 18, 'carrera': 'Ingeniería', 'notas': [4, 5, 4]}, {'nombre': 'Samuel', 'edad': 19, 'carrera': 'Ingeniería', 'notas': [5, 5, 4]}, {'nombre': 'Joseph', 'edad': 17, 'carrera': 'Ingeniería', 'notas': [5, 5, 5]}]\n"
          ]
        }
      ]
    },
    {
      "cell_type": "markdown",
      "source": [
        "3. En este ejercicio se trabaja con una lista de diccionarios, donde cada diccionario representa un estudiante con su información personal.\n",
        "El objetivo es eliminar una clave específica, en este caso 'carrera', del primer estudiante de la lista.\n",
        "\n",
        "El problema que se resuelve es cómo borrar un dato dentro de un diccionario, sin afectar los demás elementos.\n",
        "El enfoque consiste en usar la instrucción del, que permite eliminar una clave y su valor de un diccionario."
      ],
      "metadata": {
        "id": "-SmmPpsfKnGx"
      }
    },
    {
      "cell_type": "code",
      "source": [
        "# Lista de diccionarios con información de estudiantes\n",
        "estudiante = [\n",
        "    {\n",
        "        'nombre': 'Ana',\n",
        "        'edad': 20,\n",
        "        'carrera': 'Ingeniería',\n",
        "        'notas': [85, 90, 78]\n",
        "    },\n",
        "    {\n",
        "        'nombre': 'Mateo',\n",
        "        'edad': 18,\n",
        "        'carrera': 'Ingeniería',\n",
        "        'notas': [4, 5, 4]\n",
        "    },\n",
        "    {\n",
        "        'nombre': 'Samuel',\n",
        "        'edad': 19,\n",
        "        'carrera': 'Ingeniería',\n",
        "        'notas': [5, 5, 4]\n",
        "    },\n",
        "    {\n",
        "        'nombre': 'Joseph',\n",
        "        'edad': 17,\n",
        "        'carrera': 'Ingeniería',\n",
        "        'notas': [5, 5, 5]\n",
        "    }\n",
        "]\n",
        "\n",
        "# Eliminar la clave 'carrera' del primer estudiante (índice 0)\n",
        "del estudiante[0]['carrera']\n",
        "\n",
        "# Mostrar la lista actualizada después de eliminar la clave\n",
        "print(estudiante)"
      ],
      "metadata": {
        "colab": {
          "base_uri": "https://localhost:8080/"
        },
        "id": "k-Q4a5paKnx2",
        "outputId": "7ebd06d5-c4f1-405a-a2ab-ca5d45da1d61"
      },
      "execution_count": null,
      "outputs": [
        {
          "output_type": "stream",
          "name": "stdout",
          "text": [
            "[{'nombre': 'Ana', 'edad': 20, 'notas': [85, 90, 78]}, {'nombre': 'Mateo', 'edad': 18, 'carrera': 'Ingeniería', 'notas': [4, 5, 4]}, {'nombre': 'Samuel', 'edad': 19, 'carrera': 'Ingeniería', 'notas': [5, 5, 4]}, {'nombre': 'Joseph', 'edad': 17, 'carrera': 'Ingeniería', 'notas': [5, 5, 5]}]\n"
          ]
        }
      ]
    },
    {
      "cell_type": "markdown",
      "source": [
        "4. En este ejercicio se quiere verificar si una clave específica existe dentro de los diccionarios que forman parte de la lista estudiante.\n",
        "El problema es que estudiante es una lista, no un diccionario directamente.\n",
        "Por eso, al escribir 'nombre' in estudiante, Python busca un elemento completo en la lista (no una clave dentro de un diccionario), y devolvería False.\n",
        "\n",
        "El enfoque correcto es acceder a un diccionario específico dentro de la lista (por ejemplo, estudiante[0]) y luego usar el operador in sobre ese diccionario.\n"
      ],
      "metadata": {
        "id": "MJIV55WBKoiJ"
      }
    },
    {
      "cell_type": "code",
      "source": [
        "# Lista de diccionarios con información de estudiantes\n",
        "estudiante = [\n",
        "    {\n",
        "        'nombre': 'Ana',\n",
        "        'edad': 20,\n",
        "        'notas': [85, 90, 78]\n",
        "    },\n",
        "    {\n",
        "        'nombre': 'Mateo',\n",
        "        'edad': 18,\n",
        "        'carrera': 'Ingeniería',\n",
        "        'notas': [4, 5, 4]\n",
        "    },\n",
        "    {\n",
        "        'nombre': 'Samuel',\n",
        "        'edad': 19,\n",
        "        'carrera': 'Ingeniería',\n",
        "        'notas': [5, 5, 4]\n",
        "    },\n",
        "    {\n",
        "        'nombre': 'Joseph',\n",
        "        'edad': 17,\n",
        "        'carrera': 'Ingeniería',\n",
        "        'notas': [5, 5, 5]\n",
        "    }\n",
        "]\n",
        "\n",
        "# Verificar si existen ciertas claves dentro del primer diccionario (el primer estudiante)\n",
        "print('nombre' in estudiante[0])   # True  -> la clave 'nombre' sí existe\n",
        "print('carrera' in estudiante[0])  # False -> ya eliminamos esa clave en el primer estudiante"
      ],
      "metadata": {
        "colab": {
          "base_uri": "https://localhost:8080/"
        },
        "id": "d5J8j9w3KuoJ",
        "outputId": "bf80adcf-3c3f-45fb-9e13-493dc70763f9"
      },
      "execution_count": null,
      "outputs": [
        {
          "output_type": "stream",
          "name": "stdout",
          "text": [
            "True\n",
            "False\n"
          ]
        }
      ]
    },
    {
      "cell_type": "markdown",
      "source": [
        "'nombre' in estudiante[0] devuelve True, porque el primer diccionario tiene la clave 'nombre'.\n",
        "\n",
        "'carrera' in estudiante[0] devuelve False, ya que esa clave fue eliminada anteriormente."
      ],
      "metadata": {
        "id": "CA6bHbq6L1Yu"
      }
    },
    {
      "cell_type": "markdown",
      "source": [
        "5. En este ejercicio se busca obtener todas las claves (nombres de campos) del diccionario que representa a un estudiante.\n",
        "El problema a resolver es que la variable estudiante contiene una lista de varios diccionarios, así que hay que seleccionar uno de ellos para acceder a sus claves.\n",
        "El enfoque correcto consiste en usar el método .keys() sobre un solo diccionario, y si se desea, convertir ese resultado a una lista con list() para visualizarlo más claramente."
      ],
      "metadata": {
        "id": "WUv0emqCKx0m"
      }
    },
    {
      "cell_type": "code",
      "source": [
        "# Lista de diccionarios con información de estudiantes\n",
        "estudiante = [\n",
        "    {\n",
        "        'nombre': 'Ana',\n",
        "        'edad': 20,\n",
        "        'notas': [85, 90, 78]\n",
        "    },\n",
        "    {\n",
        "        'nombre': 'Mateo',\n",
        "        'edad': 18,\n",
        "        'carrera': 'Ingeniería',\n",
        "        'notas': [4, 5, 4]\n",
        "    },\n",
        "    {\n",
        "        'nombre': 'Samuel',\n",
        "        'edad': 19,\n",
        "        'carrera': 'Ingeniería',\n",
        "        'notas': [5, 5, 4]\n",
        "    },\n",
        "    {\n",
        "        'nombre': 'Joseph',\n",
        "        'edad': 17,\n",
        "        'carrera': 'Ingeniería',\n",
        "        'notas': [5, 5, 5]\n",
        "    }\n",
        "]\n",
        "\n",
        "# Obtener todas las claves del primer estudiante de la lista\n",
        "claves = list(estudiante[0].keys())\n",
        "\n",
        "# Mostrar la lista de claves\n",
        "print(claves)"
      ],
      "metadata": {
        "colab": {
          "base_uri": "https://localhost:8080/"
        },
        "id": "3SYxfC-FKyup",
        "outputId": "df3d6ac1-691e-4189-dc7a-5e568df1a1c6"
      },
      "execution_count": null,
      "outputs": [
        {
          "output_type": "stream",
          "name": "stdout",
          "text": [
            "['nombre', 'edad', 'notas']\n"
          ]
        }
      ]
    },
    {
      "cell_type": "markdown",
      "source": [
        "6. En este ejercicio se quiere obtener todos los valores almacenados en un diccionario, es decir, el contenido asociado a cada clave.\n",
        "El problema es que la variable estudiante contiene varios diccionarios dentro de una lista, por lo que no se puede usar .values() directamente sobre la lista completa.\n",
        "El enfoque correcto consiste en elegir un diccionario dentro de la lista (por ejemplo, el primero) y luego usar el método .values() para obtener sus valores."
      ],
      "metadata": {
        "id": "Yi-vp_Q1KzHe"
      }
    },
    {
      "cell_type": "code",
      "source": [
        "# Lista de diccionarios con información de estudiantes\n",
        "estudiante = [\n",
        "    {\n",
        "        'nombre': 'Ana',\n",
        "        'edad': 20,\n",
        "        'notas': [85, 90, 78]\n",
        "    },\n",
        "    {\n",
        "        'nombre': 'Mateo',\n",
        "        'edad': 18,\n",
        "        'carrera': 'Ingeniería',\n",
        "        'notas': [4, 5, 4]\n",
        "    },\n",
        "    {\n",
        "        'nombre': 'Samuel',\n",
        "        'edad': 19,\n",
        "        'carrera': 'Ingeniería',\n",
        "        'notas': [5, 5, 4]\n",
        "    },\n",
        "    {\n",
        "        'nombre': 'Joseph',\n",
        "        'edad': 17,\n",
        "        'carrera': 'Ingeniería',\n",
        "        'notas': [5, 5, 5]\n",
        "    }\n",
        "]\n",
        "\n",
        "# Obtener todos los valores del primer estudiante\n",
        "valores = list(estudiante[0].values())\n",
        "\n",
        "# Mostrar los valores\n",
        "print(valores)"
      ],
      "metadata": {
        "colab": {
          "base_uri": "https://localhost:8080/"
        },
        "id": "0MjAeOtDKz9D",
        "outputId": "f6e1f4ad-9150-436f-cffd-15970f86d46b"
      },
      "execution_count": null,
      "outputs": [
        {
          "output_type": "stream",
          "name": "stdout",
          "text": [
            "['Ana', 20, [85, 90, 78]]\n"
          ]
        }
      ]
    },
    {
      "cell_type": "markdown",
      "source": [
        " # Lista como Pilas"
      ],
      "metadata": {
        "id": "g0pniQ0lK0WG"
      }
    },
    {
      "cell_type": "markdown",
      "source": [
        "1. En este ejercicio se implementa una estructura de datos tipo Pila (Stack) utilizando una lista de Python.\n",
        "Una pila es una estructura que sigue el principio LIFO (Last In, First Out), es decir, el último elemento que entra es el primero que sale, como una pila de platos.\n",
        "\n",
        "El problema que se resuelve es cómo almacenar y manipular datos de forma ordenada, permitiendo agregar (apilar) y eliminar (desapilar) elementos desde el tope, sin necesidad de acceder al resto de la estructura.\n",
        "\n",
        "El enfoque que se tomó fue crear una clase Pila con métodos que permiten:\n",
        "\n",
        "- Apilar elementos.\n",
        "- Desapilar el elemento superior.\n",
        "- Ver el elemento del tope sin eliminarlo.\n",
        "- Verificar si la pila está vacía.\n",
        "- Conocer el tamaño actual.\n",
        "\n",
        "Además, se incluye un ejemplo práctico que invierte una palabra utilizando la lógica de una pila."
      ],
      "metadata": {
        "id": "YTsnIAj4K5ze"
      }
    },
    {
      "cell_type": "code",
      "source": [
        "# ===============================================\n",
        "# ESTRUCTURA DE DATOS: PILA (STACK) CON LISTA\n",
        "# ===============================================\n",
        "\n",
        "class Pila:\n",
        "    \"\"\"\n",
        "    Implementación de una estructura de datos tipo Pila (Stack).\n",
        "    Sigue el principio LIFO (Last In, First Out).\n",
        "    Todas las operaciones principales tienen complejidad O(1).\n",
        "    \"\"\"\n",
        "\n",
        "    def __init__(self):\n",
        "        \"\"\"Inicializa una pila vacía usando una lista.\"\"\"\n",
        "        self.items = []\n",
        "\n",
        "    def apilar(self, elemento):\n",
        "        \"\"\"Agrega un elemento al tope de la pila.\"\"\"\n",
        "        self.items.append(elemento)\n",
        "\n",
        "    def desapilar(self):\n",
        "        \"\"\"\n",
        "        Elimina y retorna el elemento del tope de la pila.\n",
        "        Retorna None si la pila está vacía.\n",
        "        \"\"\"\n",
        "        if self.esta_vacia():\n",
        "            return None\n",
        "        return self.items.pop()\n",
        "\n",
        "    def ver_tope(self):\n",
        "        \"\"\"\n",
        "        Muestra el elemento del tope sin eliminarlo.\n",
        "        Retorna None si la pila está vacía.\n",
        "        \"\"\"\n",
        "        if self.esta_vacia():\n",
        "            return None\n",
        "        return self.items[-1]  # Último elemento de la lista\n",
        "\n",
        "    def esta_vacia(self):\n",
        "        \"\"\"Retorna True si la pila está vacía, False si no.\"\"\"\n",
        "        return len(self.items) == 0\n",
        "\n",
        "    def tamano(self):\n",
        "        \"\"\"Devuelve la cantidad de elementos en la pila.\"\"\"\n",
        "        return len(self.items)\n",
        "\n",
        "    # ---- Métodos especiales de Python ----\n",
        "    def __len__(self):\n",
        "        \"\"\"Permite usar len(pila) directamente.\"\"\"\n",
        "        return len(self.items)\n",
        "\n",
        "    def __str__(self):\n",
        "        \"\"\"Muestra la pila de forma legible al imprimirla.\"\"\"\n",
        "        return f\"Pila(Tope <- {self.items})\"\n",
        "\n",
        "# --------------------------------------------------\n",
        "# BLOQUE PRINCIPAL: DEMOSTRACIÓN DE USO\n",
        "# --------------------------------------------------\n",
        "\n",
        "if __name__ == \"__main__\":\n",
        "    print(\"=== Demostración de la estructura de datos Pila (Stack) ===\\n\")\n",
        "\n",
        "    # Crear una pila vacía\n",
        "    mi_pila = Pila()\n",
        "    print(f\"1. Pila recién creada: {mi_pila} | ¿Vacía? {mi_pila.esta_vacia()}\")\n",
        "\n",
        "    # --- Apilar elementos ---\n",
        "    print(\"\\n2. Apilando (10, 20, 30, 40)...\")\n",
        "    mi_pila.apilar(10)\n",
        "    mi_pila.apilar(20)\n",
        "    mi_pila.apilar(30)\n",
        "    mi_pila.apilar(40)\n",
        "    print(f\"   Estado actual: {mi_pila}\")\n",
        "    print(f\"   Tope actual: {mi_pila.ver_tope()}\")\n",
        "    print(f\"   Tamaño: {len(mi_pila)}\")\n",
        "\n",
        "    # --- Desapilar elementos ---\n",
        "    print(\"\\n3. Desapilando dos elementos (LIFO)...\")\n",
        "    print(f\"   Desapilado: {mi_pila.desapilar()}\")\n",
        "    print(f\"   Desapilado: {mi_pila.desapilar()}\")\n",
        "    print(f\"   Estado actual: {mi_pila}\")\n",
        "    print(f\"   Nuevo tope: {mi_pila.ver_tope()}\")\n",
        "\n",
        "    # --- Ejemplo práctico: Invertir una palabra ---\n",
        "    print(\"\\n4. Ejemplo práctico: Invertir la palabra 'DATA' con la Pila.\")\n",
        "    palabra = \"DATA\"\n",
        "    pila_letras = Pila()\n",
        "\n",
        "    # Apilar cada letra de la palabra\n",
        "    for letra in palabra:\n",
        "        pila_letras.apilar(letra)\n",
        "\n",
        "    # Desapilar para formar la palabra invertida\n",
        "    palabra_invertida = \"\"\n",
        "    while not pila_letras.esta_vacia():\n",
        "        palabra_invertida += pila_letras.desapilar()\n",
        "\n",
        "    print(f\"   Palabra original: {palabra}\")\n",
        "    print(f\"   Palabra invertida: {palabra_invertida}\")"
      ],
      "metadata": {
        "colab": {
          "base_uri": "https://localhost:8080/"
        },
        "id": "DwM3M3LWK8sG",
        "outputId": "2f1d8516-c0ab-4e79-80ae-df0b82022795"
      },
      "execution_count": null,
      "outputs": [
        {
          "output_type": "stream",
          "name": "stdout",
          "text": [
            "=== Demostración de la estructura de datos Pila (Stack) ===\n",
            "\n",
            "1. Pila recién creada: Pila(Tope <- []) | ¿Vacía? True\n",
            "\n",
            "2. Apilando (10, 20, 30, 40)...\n",
            "   Estado actual: Pila(Tope <- [10, 20, 30, 40])\n",
            "   Tope actual: 40\n",
            "   Tamaño: 4\n",
            "\n",
            "3. Desapilando dos elementos (LIFO)...\n",
            "   Desapilado: 40\n",
            "   Desapilado: 30\n",
            "   Estado actual: Pila(Tope <- [10, 20])\n",
            "   Nuevo tope: 20\n",
            "\n",
            "4. Ejemplo práctico: Invertir la palabra 'DATA' con la Pila.\n",
            "   Palabra original: DATA\n",
            "   Palabra invertida: ATAD\n"
          ]
        }
      ]
    },
    {
      "cell_type": "markdown",
      "source": [
        "# Listas como Colas"
      ],
      "metadata": {
        "id": "hDi1HMPFK9DZ"
      }
    },
    {
      "cell_type": "markdown",
      "source": [
        "1. En este ejercicio se implementa una cola (queue) utilizando la clase deque del módulo collections en Python.\n",
        "Una cola sigue el principio FIFO (First In, First Out): el primer elemento que entra es el primero que sale, como una fila en un restaurante.\n",
        "\n",
        "El problema que se resuelve es cómo gestionar pedidos en orden de llegada, de forma que los más antiguos se procesen primero.\n",
        "El enfoque fue crear una clase SistemaPedidos que administra dos estructuras:\n",
        "\n",
        "- Una cola de pedidos pendientes (deque), donde se agregan nuevos pedidos.\n",
        "- Una lista de pedidos completados, donde se guardan los pedidos ya procesados.\n",
        "\n",
        "También se incluye una simulación práctica que muestra cómo los pedidos son agregados, procesados y visualizados en el sistema."
      ],
      "metadata": {
        "id": "rz3gbuq_LCBG"
      }
    },
    {
      "cell_type": "code",
      "source": [
        "# ===============================================\n",
        "# ESTRUCTURA DE DATOS: COLA (QUEUE) CON LISTA\n",
        "# Ejemplo práctico: Sistema de gestión de pedidos\n",
        "# ===============================================\n",
        "\n",
        "from collections import deque  # Permite crear una cola eficiente\n",
        "import time\n",
        "import random\n",
        "\n",
        "class SistemaPedidos:\n",
        "    \"\"\"Simula el manejo de pedidos en un restaurante.\"\"\"\n",
        "\n",
        "    def __init__(self):\n",
        "        # Cola de pedidos pendientes (FIFO)\n",
        "        self.pendientes = deque()\n",
        "        # Lista de pedidos ya completados\n",
        "        self.completados = []\n",
        "        # Contador para asignar números únicos de pedido\n",
        "        self.numero_pedido = 1\n",
        "\n",
        "    def agregar_pedido(self, cliente, items):\n",
        "        \"\"\"Agrega un nuevo pedido al final de la cola.\"\"\"\n",
        "        pedido = {\n",
        "            'numero': self.numero_pedido,\n",
        "            'cliente': cliente,\n",
        "            'items': items,\n",
        "            'hora': time.strftime(\"%H:%M:%S\"),\n",
        "            'estado': 'pendiente'\n",
        "        }\n",
        "        # Se encola el pedido\n",
        "        self.pendientes.append(pedido)\n",
        "        self.numero_pedido += 1\n",
        "        print(f\"📝 Pedido #{pedido['numero']} agregado para {cliente}\")\n",
        "        return pedido['numero']\n",
        "\n",
        "    def procesar_siguiente_pedido(self):\n",
        "        \"\"\"Procesa el siguiente pedido en la cola (FIFO).\"\"\"\n",
        "        if not self.pendientes:\n",
        "            print(\"⚠️ No hay pedidos pendientes\")\n",
        "            return None\n",
        "\n",
        "        # Se toma el primer pedido (el más antiguo)\n",
        "        pedido = self.pendientes.popleft()\n",
        "        pedido['estado'] = 'completado'\n",
        "        pedido['hora_completado'] = time.strftime(\"%H:%M:%S\")\n",
        "        self.completados.append(pedido)\n",
        "\n",
        "        print(f\"✅ Pedido #{pedido['numero']} completado para {pedido['cliente']}\")\n",
        "        return pedido\n",
        "\n",
        "    def mostrar_estado(self):\n",
        "        \"\"\"Muestra el estado general del sistema.\"\"\"\n",
        "        print(\"\\n📊 ESTADO DEL SISTEMA\")\n",
        "        print(f\"🔄 Pedidos pendientes: {len(self.pendientes)}\")\n",
        "        print(f\"✅ Pedidos completados: {len(self.completados)}\")\n",
        "\n",
        "        # Mostrar los pedidos en cola\n",
        "        if self.pendientes:\n",
        "            print(\"\\n📋 Próximos pedidos:\")\n",
        "            for i, pedido in enumerate(self.pendientes):\n",
        "                print(f\"   {i+1}. #{pedido['numero']} - {pedido['cliente']} ({len(pedido['items'])} items)\")\n",
        "\n",
        "# --------------------------------------------------\n",
        "# BLOQUE PRINCIPAL: DEMOSTRACIÓN DE USO DEL SISTEMA\n",
        "# --------------------------------------------------\n",
        "\n",
        "# Crear una instancia del sistema\n",
        "sistema = SistemaPedidos()\n",
        "\n",
        "# Agregar varios pedidos (simulando clientes en cola)\n",
        "sistema.agregar_pedido(\"Ana\", [\"Hamburguesa\", \"Papas fritas\", \"Refresco\"])\n",
        "sistema.agregar_pedido(\"Carlos\", [\"Pizza familiar\", \"Ensalada\"])\n",
        "sistema.agregar_pedido(\"María\", [\"Sushi\", \"Sopa miso\"])\n",
        "sistema.agregar_pedido(\"Juan\", [\"Tacos\", \"Agua de horchata\"])\n",
        "\n",
        "# Mostrar el estado inicial del sistema\n",
        "sistema.mostrar_estado()\n",
        "\n",
        "# Procesar algunos pedidos (los primeros en llegar salen primero)\n",
        "print(\"\\n🍳 Procesando pedidos...\")\n",
        "sistema.procesar_siguiente_pedido()\n",
        "sistema.procesar_siguiente_pedido()\n",
        "\n",
        "# Mostrar el estado final del sistema\n",
        "sistema.mostrar_estado()"
      ],
      "metadata": {
        "colab": {
          "base_uri": "https://localhost:8080/"
        },
        "id": "KLjq9lEWLAjP",
        "outputId": "3cedbecb-39fa-45f7-838e-53d1ceade365"
      },
      "execution_count": null,
      "outputs": [
        {
          "output_type": "stream",
          "name": "stdout",
          "text": [
            "📝 Pedido #1 agregado para Ana\n",
            "📝 Pedido #2 agregado para Carlos\n",
            "📝 Pedido #3 agregado para María\n",
            "📝 Pedido #4 agregado para Juan\n",
            "\n",
            "📊 ESTADO DEL SISTEMA\n",
            "🔄 Pedidos pendientes: 4\n",
            "✅ Pedidos completados: 0\n",
            "\n",
            "📋 Próximos pedidos:\n",
            "   1. #1 - Ana (3 items)\n",
            "   2. #2 - Carlos (2 items)\n",
            "   3. #3 - María (2 items)\n",
            "   4. #4 - Juan (2 items)\n",
            "\n",
            "🍳 Procesando pedidos...\n",
            "✅ Pedido #1 completado para Ana\n",
            "✅ Pedido #2 completado para Carlos\n",
            "\n",
            "📊 ESTADO DEL SISTEMA\n",
            "🔄 Pedidos pendientes: 2\n",
            "✅ Pedidos completados: 2\n",
            "\n",
            "📋 Próximos pedidos:\n",
            "   1. #3 - María (2 items)\n",
            "   2. #4 - Juan (2 items)\n"
          ]
        }
      ]
    }
  ]
}